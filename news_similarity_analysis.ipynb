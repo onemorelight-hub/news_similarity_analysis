{
 "cells": [
  {
   "cell_type": "code",
   "execution_count": 41,
   "id": "daeefd58",
   "metadata": {},
   "outputs": [
    {
     "name": "stderr",
     "output_type": "stream",
     "text": [
      "[nltk_data] Downloading package stopwords to\n",
      "[nltk_data]     C:\\Users\\Admin\\AppData\\Roaming\\nltk_data...\n",
      "[nltk_data]   Package stopwords is already up-to-date!\n"
     ]
    },
    {
     "data": {
      "text/plain": [
       "['output_model/tfidf_matrix.pkl']"
      ]
     },
     "execution_count": 41,
     "metadata": {},
     "output_type": "execute_result"
    }
   ],
   "source": [
    "import pandas as pd\n",
    "import string\n",
    "import joblib\n",
    "from sklearn.feature_extraction.text import TfidfVectorizer\n",
    "import nltk\n",
    "nltk.download('stopwords')\n",
    "from nltk.corpus import stopwords\n",
    "import os\n",
    "\n",
    "stop_words = set(stopwords.words('english'))\n",
    "\n",
    "def preprocess(text):\n",
    "    text = str(text).lower()\n",
    "    text = ''.join([c for c in text if c not in string.punctuation])\n",
    "    return ' '.join([word for word in text.split() if word not in stop_words])\n",
    "\n",
    "df = pd.read_csv('./data/news_crawler.csv')\n",
    "\n",
    "df['title'] = df['title'].fillna('')\n",
    "df['content'] = df['content'].fillna('')\n",
    "df['text'] = df['content']\n",
    "df['text'] = df['text'].apply(preprocess)\n",
    "\n",
    "os.makedirs('output_model', exist_ok=True)\n",
    "\n",
    "# Save raw text to re-use in recommendations\n",
    "df[['title', 'text']].to_csv('output_model/news_texts.csv', index=False)\n",
    "\n",
    "# Vectorize using TF-IDF\n",
    "vectorizer = TfidfVectorizer(max_features=50000)\n",
    "tfidf_matrix = vectorizer.fit_transform(df['text'])\n",
    "\n",
    "# Save vectorizer and matrix\n",
    "joblib.dump(vectorizer, 'output_model/tfidf_vectorizer.pkl')\n",
    "joblib.dump(tfidf_matrix, 'output_model/tfidf_matrix.pkl')\n",
    "\n"
   ]
  },
  {
   "cell_type": "code",
   "execution_count": 42,
   "id": "783a5e4b",
   "metadata": {},
   "outputs": [
    {
     "data": {
      "text/html": [
       "<div>\n",
       "<style scoped>\n",
       "    .dataframe tbody tr th:only-of-type {\n",
       "        vertical-align: middle;\n",
       "    }\n",
       "\n",
       "    .dataframe tbody tr th {\n",
       "        vertical-align: top;\n",
       "    }\n",
       "\n",
       "    .dataframe thead th {\n",
       "        text-align: right;\n",
       "    }\n",
       "</style>\n",
       "<table border=\"1\" class=\"dataframe\">\n",
       "  <thead>\n",
       "    <tr style=\"text-align: right;\">\n",
       "      <th></th>\n",
       "      <th>title</th>\n",
       "      <th>text</th>\n",
       "    </tr>\n",
       "  </thead>\n",
       "  <tbody>\n",
       "    <tr>\n",
       "      <th>0</th>\n",
       "      <td>News News Israel-Gaza war</td>\n",
       "      <td>benjamin netanyahu says hamas seeking changes ...</td>\n",
       "    </tr>\n",
       "    <tr>\n",
       "      <th>1</th>\n",
       "      <td>News News War in Ukraine</td>\n",
       "      <td>fire 100 drones night theres little talk cease...</td>\n",
       "    </tr>\n",
       "  </tbody>\n",
       "</table>\n",
       "</div>"
      ],
      "text/plain": [
       "                       title  \\\n",
       "0  News News Israel-Gaza war   \n",
       "1   News News War in Ukraine   \n",
       "\n",
       "                                                text  \n",
       "0  benjamin netanyahu says hamas seeking changes ...  \n",
       "1  fire 100 drones night theres little talk cease...  "
      ]
     },
     "execution_count": 42,
     "metadata": {},
     "output_type": "execute_result"
    }
   ],
   "source": [
    "new_news = pd.read_csv('./output_model/news_texts.csv')\n",
    "new_news.head(2)"
   ]
  },
  {
   "cell_type": "code",
   "execution_count": 43,
   "id": "2d7ad57b",
   "metadata": {},
   "outputs": [],
   "source": [
    "from sklearn.metrics.pairwise import cosine_similarity\n",
    "news_df = pd.read_csv('./output_model/news_texts.csv')\n",
    "\n",
    "\n",
    "def get_similar_news(input_text, top_n=3):\n",
    "    cleaned = preprocess(input_text)\n",
    "    vector = vectorizer.transform([cleaned])\n",
    "    sim_scores = cosine_similarity(vector, tfidf_matrix).flatten()\n",
    "   # print(sim_scores)\n",
    "\n",
    "    top_indices = sim_scores.argsort()[::-1][:top_n]\n",
    "    print(top_indices)\n",
    "    similar_news = news_df.iloc[top_indices]\n",
    "    \n",
    "    return similar_news[['title']].to_dict(orient='records')"
   ]
  },
  {
   "cell_type": "code",
   "execution_count": 45,
   "id": "5d7cea6c",
   "metadata": {},
   "outputs": [
    {
     "name": "stdout",
     "output_type": "stream",
     "text": [
      "[ 518 2756 1659]\n",
      "[{'title': 'Man arrested after teenager raped in public toilet'}, {'title': 'Two arrested after school girls in India allegedly made to strip for period check'}, {'title': 'USC campus intersections are dangerous, data shows. Then they became deadly'}]\n"
     ]
    }
   ],
   "source": [
    "text = \"\"\" A second-year student of the Indian Institute of Management-Calcutta has been arrested after a woman alleged she was raped inside the hostel at the premier institute.\n",
    "\n",
    "The police have charged the accused under various sections of the Bharatiya Nyaya Sanhita, including rape, and seized his clothes and phone for forensic examination. Four others have also been detained and are being questioned.\n",
    "\n",
    "The woman has alleged that Parmanand Toppaunwar, who hails from Karnataka, called her to the campus in Joka on Friday. She told police that she is a psychologist and the accused her client, and he had asked her to come to the campus for a counselling session. The two had met on social media, she wrote in her complaint\n",
    "\"\"\"\n",
    "\n",
    "print(get_similar_news(text))"
   ]
  }
 ],
 "metadata": {
  "kernelspec": {
   "display_name": "Python 3",
   "language": "python",
   "name": "python3"
  },
  "language_info": {
   "codemirror_mode": {
    "name": "ipython",
    "version": 3
   },
   "file_extension": ".py",
   "mimetype": "text/x-python",
   "name": "python",
   "nbconvert_exporter": "python",
   "pygments_lexer": "ipython3",
   "version": "3.11.9"
  }
 },
 "nbformat": 4,
 "nbformat_minor": 5
}
